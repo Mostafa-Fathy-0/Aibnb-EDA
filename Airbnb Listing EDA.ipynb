{
 "cells": [
  {
   "cell_type": "code",
   "execution_count": null,
   "id": "7c32b50f",
   "metadata": {},
   "outputs": [],
   "source": [
    "import numpy as np\n",
    "import pandas as pd\n",
    "import matplotlib.pyplot as plt\n",
    "import seaborn as sns"
   ]
  },
  {
   "cell_type": "code",
   "execution_count": null,
   "id": "8f338df9",
   "metadata": {},
   "outputs": [],
   "source": [
    "df = pd.read_csv('listings.csv')"
   ]
  },
  {
   "cell_type": "code",
   "execution_count": null,
   "id": "b46a953a",
   "metadata": {},
   "outputs": [],
   "source": [
    "df.columns"
   ]
  },
  {
   "cell_type": "markdown",
   "id": "5a18b828",
   "metadata": {},
   "source": [
    "# Q1 - What is the number of available rooms by each type ?"
   ]
  },
  {
   "cell_type": "code",
   "execution_count": null,
   "id": "49fdb5b4",
   "metadata": {},
   "outputs": [],
   "source": [
    "def rooms_availability(df) :\n",
    "    available_rooms = df.groupby('room_type')['availability'].count()\n",
    "    plt.figure(figsize=(6,6))\n",
    "    colors = ['skyblue' , 'salmon' , 'orange' , 'darkseagreen' ,'cadetblue']\n",
    "    bars = plt.bar(available_rooms.index , available_rooms.values , color = colors)\n",
    "    plt.xlabel('Room Type')\n",
    "    plt.ylabel('Available Rooms')\n",
    "    plt.title('Number of Available Rooms by Room Type')\n",
    "    plt.xticks(rotation=45)\n",
    "    for bar in bars:\n",
    "        height = bar.get_height()\n",
    "        plt.annotate(f'{height:0.0f} room',xy=(bar.get_x() + bar.get_width() / 2, height),\n",
    "        xytext=(0, 3),textcoords=\"offset points\",ha='center', va='bottom')\n",
    "    plt.show()"
   ]
  },
  {
   "cell_type": "markdown",
   "id": "7a9503c3",
   "metadata": {},
   "source": [
    "## Insights :\n",
    "### - This chart showcases the number of available rooms for each room type (e.g., entire home/apt, private room, shared room, etc.).\n",
    "### - It provides an overview of the distribution of available rooms among different types.\n",
    "\n",
    "## Benefits :\n",
    "### - Decision-makers can assess the supply of each room type and gain insights into the demand for different accommodation options.\n",
    "### - It helps in understanding the overall availability of rooms and identifying any imbalances or shortages in specific room types.\n",
    "\n",
    "## Useful Information :\n",
    "### - The chart displays the count of available rooms on the y-axis, while the x-axis represents different room types.\n",
    "### - Each bar represents a room type, and the height of the bar corresponds to the count of available rooms for that type."
   ]
  },
  {
   "cell_type": "markdown",
   "id": "c377e96b",
   "metadata": {},
   "source": [
    "# Q2 - What is the average price for each room ?"
   ]
  },
  {
   "cell_type": "code",
   "execution_count": null,
   "id": "5d51203c",
   "metadata": {},
   "outputs": [],
   "source": [
    "def average_price(df) : \n",
    "    avg = df.groupby('room_type')['price'].mean()\n",
    "    plt.figure(figsize=(6,6))\n",
    "    colors = ['skyblue' , 'salmon' , 'orange' , 'darkseagreen' ,'cadetblue']\n",
    "    bars = plt.bar(avg.index , avg.values, color=colors)\n",
    "    plt.xlabel('Room Type')\n",
    "    plt.ylabel('Average Price')\n",
    "    plt.title('Average Price by Room Type')\n",
    "    plt.xticks(rotation=45)\n",
    "    for bar in bars:\n",
    "        height = bar.get_height()\n",
    "        plt.annotate(f'${height:.2f}',xy=(bar.get_x() + bar.get_width() / 2, height),\n",
    "        xytext=(0, 3),textcoords=\"offset points\",ha='center', va='bottom')\n",
    "    plt.show()"
   ]
  },
  {
   "cell_type": "markdown",
   "id": "4f07ded4",
   "metadata": {},
   "source": [
    "## Insights :\n",
    "### - This chart illustrates the average price for each room type.\n",
    "### - It provides a comparison of the pricing levels across different types of accommodations.\n",
    "\n",
    "## Benefits :\n",
    "### - Decision-makers can understand the average prices offered in the market for each room type.\n",
    "### - It helps in identifying the room types that command higher or lower prices, enabling effective pricing strategies.\n",
    "\n",
    "## Useful Information :\n",
    "### - The chart displays the average price on the y-axis, while the x-axis represents different room types.\n",
    "### - Each bar represents a room type, and the height of the bar corresponds to the average price for that type.\n",
    "\n"
   ]
  },
  {
   "cell_type": "markdown",
   "id": "c944486d",
   "metadata": {},
   "source": [
    "# Q3 - What is the highest price for each room ?"
   ]
  },
  {
   "cell_type": "code",
   "execution_count": null,
   "id": "7802e45c",
   "metadata": {},
   "outputs": [],
   "source": [
    "def highest_price(df) : \n",
    "    highest = df.groupby('room_type')['price'].max()\n",
    "    plt.figure(figsize=(6,6))\n",
    "    colors = ['skyblue' , 'salmon' , 'orange' , 'darkseagreen' ,'cadetblue']\n",
    "    bars = plt.bar(highest.index , highest.values, color=colors)\n",
    "    plt.xlabel('Room Type')\n",
    "    plt.ylabel('Max Price')\n",
    "    plt.title('Maximum Price by Room Type')\n",
    "    plt.xticks(rotation=45)\n",
    "    for bar in bars:\n",
    "        height = bar.get_height()\n",
    "        plt.annotate(f'${height:0.0f}',xy=(bar.get_x() + bar.get_width() / 2, height),\n",
    "        xytext=(0, 3),textcoords=\"offset points\",ha='center', va='bottom')\n",
    "    plt.show()"
   ]
  },
  {
   "cell_type": "markdown",
   "id": "1d98e90e",
   "metadata": {},
   "source": [
    "\n",
    "## Insights :\n",
    "### - This chart showcases the highest price observed for each room type.\n",
    "### - It highlights the upper range of prices for different types of accommodations.\n",
    "\n",
    "## Benefits :\n",
    "### - Decision-makers can understand the maximum price points for each room type, which can guide their pricing strategies and positioning in the market.\n",
    "### - It helps in identifying the room types that have the potential for higher revenue generation.\n",
    "\n",
    "## Useful Information :\n",
    "### - The chart displays the maximum price on the y-axis, while the x-axis represents different room types.\n",
    "### - Each bar represents a room type, and the height of the bar corresponds to the highest price observed for that type.\n",
    "\n"
   ]
  },
  {
   "cell_type": "markdown",
   "id": "761e59f8",
   "metadata": {},
   "source": [
    "# Q4 - What is the lowest price for each room ?"
   ]
  },
  {
   "cell_type": "code",
   "execution_count": null,
   "id": "20195cf8",
   "metadata": {},
   "outputs": [],
   "source": [
    "def lowest_price(df) : \n",
    "    lowest = df.groupby('room_type')['price'].min()\n",
    "    plt.figure(figsize=(6,6))\n",
    "    colors = ['skyblue' , 'salmon' , 'orange' , 'darkseagreen' ,'cadetblue']\n",
    "    bars = plt.bar(lowest.index , lowest.values, color=colors)\n",
    "    plt.xlabel('Room Type')\n",
    "    plt.ylabel('Min Price')\n",
    "    plt.title('Minimum Price by Room Type')\n",
    "    plt.xticks(rotation=45)\n",
    "    for bar in bars:\n",
    "        height = bar.get_height()\n",
    "        plt.annotate(f'${height:0.0f}',xy=(bar.get_x() + bar.get_width() / 2, height),\n",
    "        xytext=(0, 3),textcoords=\"offset points\",ha='center', va='bottom')\n",
    "    plt.show()"
   ]
  },
  {
   "cell_type": "markdown",
   "id": "2d24fdbe",
   "metadata": {},
   "source": [
    "## Insights :\n",
    "### - This chart showcases the lowest price observed for each room type.\n",
    "### - It highlights the lower range of prices for different types of accommodations.\n",
    "\n",
    "## Benefits :\n",
    "### - Decision-makers can understand the minimum price points for each room type, which can help in setting competitive pricing strategies and identifying affordable options for customers.\n",
    "### - It provides insights into the price range that customers can expect for different types of accommodations.\n",
    "\n",
    "## Useful Information :\n",
    "### - The chart displays the minimum price on the y-axis, while the x-axis represents different room types.\n",
    "### - Each bar represents a room type, and the height of the bar corresponds to the lowest price observed for that type.\n",
    "\n"
   ]
  },
  {
   "cell_type": "markdown",
   "id": "17dc7da3",
   "metadata": {},
   "source": [
    "# Q5 - What are available neighbourhood and count of them ?"
   ]
  },
  {
   "cell_type": "code",
   "execution_count": null,
   "id": "53262935",
   "metadata": {},
   "outputs": [],
   "source": [
    "def neighbourhood_count(df) :\n",
    "    neighbourhood = df['neighbourhood'].value_counts()\n",
    "    plt.figure(figsize=(8,8))\n",
    "    colors = ['skyblue' , 'salmon' , 'orange' , 'darkseagreen' ,'cadetblue']\n",
    "    bars = plt.bar(neighbourhood.index , neighbourhood.values , color=colors )\n",
    "    plt.xlabel('Neighborhood')\n",
    "    plt.ylabel('Listing Count')\n",
    "    plt.title('Number of Listings by Neighborhood')\n",
    "    plt.xticks(rotation=90)\n",
    "    for bar in bars:\n",
    "            height = bar.get_height()\n",
    "            plt.annotate(f'{height:0.0f}',xy=(bar.get_x() + bar.get_width() / 2, height),\n",
    "            xytext=(0, 3),textcoords=\"offset points\",ha='center', va='bottom')\n",
    "    plt.show()"
   ]
  },
  {
   "cell_type": "markdown",
   "id": "86e0e71b",
   "metadata": {},
   "source": [
    "## Insights :\n",
    "### - This chart displays the number of listings available in each neighborhood.\n",
    "### - It provides an overview of the distribution of listings across different neighborhoods.\n",
    "\n",
    "## Benefits :\n",
    "### - Decision-makers can identify the popular neighborhoods with a higher number of listings, indicating potential areas of higher demand or investment opportunities.\n",
    "### - It helps in understanding the availability of accommodations in different neighborhoods, allowing customers to make informed decisions.\n",
    "\n",
    "## Useful Information :\n",
    "### - The chart displays the count of listings on the y-axis, while the x-axis represents different neighborhoods.\n",
    "### - Each bar represents a neighborhood, and the height of the bar corresponds to the number of listings in that neighborhood.\n"
   ]
  },
  {
   "cell_type": "markdown",
   "id": "4f45ffbe",
   "metadata": {},
   "source": [
    "### Data Cleaning :"
   ]
  },
  {
   "cell_type": "code",
   "execution_count": null,
   "id": "22715ded",
   "metadata": {},
   "outputs": [],
   "source": [
    "def clean_missing_data(df):\n",
    "    missing_columns_values = df.columns[df.isnull().any()]\n",
    "    for column in missing_columns_values:\n",
    "        if df[column].dtype == 'object':\n",
    "            df[column] = df[column].fillna('Unknown')\n",
    "        elif df[column].dtype == 'bool':\n",
    "            df[column] = df[column].fillna(False)\n",
    "        else:\n",
    "            df[column] = df[column].fillna(df[column].mean())"
   ]
  },
  {
   "cell_type": "markdown",
   "id": "03be70a3",
   "metadata": {},
   "source": [
    "### Check file is in the types range or not :"
   ]
  },
  {
   "cell_type": "code",
   "execution_count": null,
   "id": "e6f9172d",
   "metadata": {},
   "outputs": [],
   "source": [
    "def get_file_types(file_type):\n",
    "    while True :\n",
    "        file_path = input('Please enter your file path : ')\n",
    "        if file_path.endswith(tuple(file_type)):\n",
    "            return file_path\n",
    "        else :\n",
    "            print('Please enter a valid path from this range {}'.format(file_type))"
   ]
  },
  {
   "cell_type": "markdown",
   "id": "4a2e21dd",
   "metadata": {},
   "source": [
    "### Check every file Path :"
   ]
  },
  {
   "cell_type": "code",
   "execution_count": null,
   "id": "30d6fc1b",
   "metadata": {},
   "outputs": [],
   "source": [
    "def check_file_path(file_path):\n",
    "    \n",
    "    if file_path.endswith('csv'):\n",
    "        df = pd.read_csv(file_path.strip())\n",
    "        \n",
    "    elif file_path.endswith('xlsx'):\n",
    "        df = pd.read_excel(file_path.strip())\n",
    "        \n",
    "    elif file_path.endswith('sql'):\n",
    "        df = pd.read_sql(file_path.strip())\n",
    "        \n",
    "    return df"
   ]
  },
  {
   "cell_type": "markdown",
   "id": "ed57b62e",
   "metadata": {},
   "source": [
    "### Code runs here :"
   ]
  },
  {
   "cell_type": "code",
   "execution_count": null,
   "id": "1cd9dc25",
   "metadata": {},
   "outputs": [],
   "source": [
    "def main():\n",
    "    file_type = ['.csv','.xlsx','.sql']\n",
    "    file_path = get_file_types(file_type)\n",
    "    df = check_file_path(file_path)\n",
    "    clean_missing_data(df)\n",
    "    rooms_availability(df)\n",
    "    average_price(df)\n",
    "    highest_price(df)\n",
    "    lowest_price(df)\n",
    "    neighbourhood_count(df)\n",
    "if __name__ == \"__main__\":\n",
    "    main()"
   ]
  },
  {
   "cell_type": "code",
   "execution_count": null,
   "id": "bfbd3d03",
   "metadata": {},
   "outputs": [],
   "source": []
  },
  {
   "cell_type": "markdown",
   "id": "a2216c85",
   "metadata": {},
   "source": [
    "\n",
    "\n"
   ]
  },
  {
   "cell_type": "markdown",
   "id": "d82230e4",
   "metadata": {},
   "source": [
    "# Aggregation of all  Insights & Recommendations :\n",
    "\n",
    "## 1 - Insights :\n",
    "\n",
    "### - The number of available rooms varies by room type, with entire homes/apartments being the most common, followed by private rooms and shared rooms.\n",
    "### - The average price per night also differs by room type, with entire homes/apartments having the highest average price, followed by private rooms and shared rooms.\n",
    "### - The highest and lowest prices are observed to vary by room type, with entire homes/apartments generally having the highest prices and shared rooms having the lowest prices.\n",
    "### - The availability of rooms and their prices provide insights into market demand and potential revenue streams.\n",
    "### - The distribution of listings across neighborhoods can help identify popular areas and potential opportunities for expansion or targeted marketing.\n",
    "\n",
    "# ---------------------------------------------------------------------------\n",
    "## 2 - Recommendations for decision-makers :\n",
    "\n",
    "### - Assess the demand for different room types and tailor offerings accordingly. Consider the popularity of entire homes/apartments and private rooms when making pricing and availability decisions.\n",
    "### - Monitor competitors' pricing strategies to ensure competitiveness while maximizing profitability. Analyze the average and highest prices for each room type to identify potential pricing opportunities.\n",
    "### - Identify neighborhoods with high listing counts as potential areas for growth or investment. Consider factors such as proximity to attractions, transportation, and amenities when evaluating new locations.\n",
    "### - Regularly analyze and adapt to market trends. Use the provided visualizations and insights to understand the current state of the market and make data-driven decisions.\n",
    "### - Leverage customer reviews and feedback to improve offerings and customer satisfaction. Prioritize guest experiences and consider implementing initiatives to enhance overall quality.\n",
    "\n"
   ]
  },
  {
   "cell_type": "code",
   "execution_count": null,
   "id": "15daf56b",
   "metadata": {},
   "outputs": [],
   "source": []
  },
  {
   "cell_type": "code",
   "execution_count": null,
   "id": "80b8811a",
   "metadata": {},
   "outputs": [],
   "source": []
  }
 ],
 "metadata": {
  "kernelspec": {
   "display_name": "Python 3 (ipykernel)",
   "language": "python",
   "name": "python3"
  },
  "language_info": {
   "codemirror_mode": {
    "name": "ipython",
    "version": 3
   },
   "file_extension": ".py",
   "mimetype": "text/x-python",
   "name": "python",
   "nbconvert_exporter": "python",
   "pygments_lexer": "ipython3",
   "version": "3.8.8"
  }
 },
 "nbformat": 4,
 "nbformat_minor": 5
}
